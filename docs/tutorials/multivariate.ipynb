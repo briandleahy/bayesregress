{
 "cells": [
  {
   "cell_type": "markdown",
   "id": "052945a7",
   "metadata": {},
   "source": [
    "In this demo, we'll look at performing multivariate least-squares regression using `bayesregress.fit_data`. We'll find a good fit to a complicated function with no user supplied information about what the function should be like, and without fine-tuning any parameters to get a good fit.\n",
    "\n",
    "First we import:"
   ]
  },
  {
   "cell_type": "code",
   "execution_count": 1,
   "id": "30753995",
   "metadata": {},
   "outputs": [],
   "source": [
    "import numpy as np\n",
    "from bayesregress import fit_data\n",
    "import matplotlib.pyplot as plt"
   ]
  },
  {
   "cell_type": "markdown",
   "id": "f49080df",
   "metadata": {},
   "source": [
    "We set a seed so that this demo is reproducible:"
   ]
  },
  {
   "cell_type": "code",
   "execution_count": 3,
   "id": "cd4950db",
   "metadata": {},
   "outputs": [],
   "source": [
    "rng = np.random.default_rng(seed=1676)"
   ]
  },
  {
   "cell_type": "markdown",
   "id": "df7c1e20",
   "metadata": {},
   "source": [
    "Next, we generate some data."
   ]
  },
  {
   "cell_type": "code",
   "execution_count": 4,
   "id": "7d662888",
   "metadata": {},
   "outputs": [],
   "source": [
    "x1, x2, x3 = rng.standard_normal((3, 1300))\n",
    "model = (\n",
    "    100 +\n",
    "    3 * x1 +\n",
    "    2 * x2**2 + 0.3 * x2 +\n",
    "    np.sin(x3))\n",
    "noise = rng.standard_normal(x1.shape)\n",
    "y = model + noise"
   ]
  },
  {
   "cell_type": "markdown",
   "id": "d88dafb4",
   "metadata": {},
   "source": [
    "We can provide named variables as well, to make things easier to keep track of."
   ]
  },
  {
   "cell_type": "code",
   "execution_count": 5,
   "id": "31d7dffa",
   "metadata": {},
   "outputs": [],
   "source": [
    "x = {'x1': x1, 'x2': x2, 'x3': x3}"
   ]
  },
  {
   "cell_type": "markdown",
   "id": "f6518b37",
   "metadata": {},
   "source": [
    "Fitting the data is the same as for the univariate case:"
   ]
  },
  {
   "cell_type": "code",
   "execution_count": 6,
   "id": "d32d161d",
   "metadata": {},
   "outputs": [
    {
     "name": "stderr",
     "output_type": "stream",
     "text": [
      "/home/brian/.local/lib/python3.6/site-packages/scipy/optimize/optimize.py:1058: RuntimeWarning: divide by zero encountered in double_scalars\n",
      "  rhok = 1.0 / (numpy.dot(yk, sk))\n",
      "/home/brian/.local/lib/python3.6/site-packages/scipy/optimize/optimize.py:1058: RuntimeWarning: divide by zero encountered in double_scalars\n",
      "  rhok = 1.0 / (numpy.dot(yk, sk))\n",
      "/home/brian/.local/lib/python3.6/site-packages/scipy/optimize/optimize.py:1058: RuntimeWarning: divide by zero encountered in double_scalars\n",
      "  rhok = 1.0 / (numpy.dot(yk, sk))\n"
     ]
    },
    {
     "data": {
      "text/plain": [
       "<GaussianRegressionResult for 1 variable vs ['x1', 'x2', 'x3'] at 0x7f7654e01860>"
      ]
     },
     "execution_count": 6,
     "metadata": {},
     "output_type": "execute_result"
    }
   ],
   "source": [
    "result = fit_data(x, y)\n",
    "result"
   ]
  },
  {
   "cell_type": "markdown",
   "id": "90db74a0",
   "metadata": {},
   "source": [
    "So is getting the model predictions:"
   ]
  },
  {
   "cell_type": "code",
   "execution_count": 7,
   "id": "01b03790",
   "metadata": {},
   "outputs": [],
   "source": [
    "prediction = result.predict_for_map_model(x)"
   ]
  },
  {
   "cell_type": "markdown",
   "id": "3584c261",
   "metadata": {},
   "source": [
    "The model and the fit agree well, despite the model's complicated, nonlinear functional form."
   ]
  },
  {
   "cell_type": "code",
   "execution_count": 9,
   "id": "aef8078e",
   "metadata": {},
   "outputs": [
    {
     "data": {
      "text/plain": [
       "Text(0.5, 1.0, 'Model-vs-Prediction: R^2 = 0.996')"
      ]
     },
     "execution_count": 9,
     "metadata": {},
     "output_type": "execute_result"
    },
    {
     "data": {
      "image/png": "[encoded data removed]",
      "text/plain": [
       "<Figure size 432x288 with 1 Axes>"
      ]
     },
     "metadata": {
      "needs_background": "light"
     },
     "output_type": "display_data"
    }
   ],
   "source": [
    "rsquared = np.corrcoef(model, prediction)[0, 1]**2\n",
    "\n",
    "plt.plot(model, prediction, '.', ms=1)\n",
    "plt.xlabel(\"Correct Model\")\n",
    "plt.ylabel(\"Prediction\")\n",
    "plt.title(\"Model-vs-Prediction: R^2 = {:0.3f}\".format(rsquared))"
   ]
  }
 ],
 "metadata": {
  "kernelspec": {
   "display_name": "Python 3",
   "language": "python",
   "name": "python3"
  },
  "language_info": {
   "codemirror_mode": {
    "name": "ipython",
    "version": 3
   },
   "file_extension": ".py",
   "mimetype": "text/x-python",
   "name": "python",
   "nbconvert_exporter": "python",
   "pygments_lexer": "ipython3",
   "version": "3.6.9"
  }
 },
 "nbformat": 4,
 "nbformat_minor": 5
}
